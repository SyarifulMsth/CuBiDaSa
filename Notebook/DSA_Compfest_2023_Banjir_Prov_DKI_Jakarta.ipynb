{
  "cells": [
    {
      "cell_type": "markdown",
      "metadata": {
        "id": "view-in-github",
        "colab_type": "text"
      },
      "source": [
        "<a href=\"https://colab.research.google.com/github/SyarifulMsth/CuBiDaSa/blob/main/Notebook/DSA_Compfest_2023_Banjir_Prov_DKI_Jakarta.ipynb\" target=\"_parent\"><img src=\"https://colab.research.google.com/assets/colab-badge.svg\" alt=\"Open In Colab\"/></a>"
      ]
    },
    {
      "cell_type": "markdown",
      "metadata": {
        "id": "PnByliwS3Ee9"
      },
      "source": [
        "# Data Science Academy (DSA) COMPFEST 2023 🚀"
      ]
    },
    {
      "cell_type": "markdown",
      "metadata": {
        "id": "UhADp8sj3YpC"
      },
      "source": [
        "Team : CUBIDASA\n",
        "\n",
        "Anggota :  \n",
        "1.   Reza Arifin Sori Harahap\n",
        "2.   Syariful Musthofa\n",
        "3.   Yogi Ferdana Gajah\n",
        "\n"
      ]
    },
    {
      "cell_type": "markdown",
      "metadata": {
        "id": "npc0okEjyZO4"
      },
      "source": [
        "# Importing the necessary libraries"
      ]
    },
    {
      "cell_type": "code",
      "execution_count": 1,
      "metadata": {
        "id": "TVEH0fhW28uf"
      },
      "outputs": [],
      "source": [
        "import os\n",
        "import keras\n",
        "import numpy as np\n",
        "import pandas as pd\n",
        "import tensorflow as tf\n",
        "import time, copy, argparse\n",
        "import multiprocessing\n",
        "from tensorflow import keras\n",
        "import tensorflow as tf\n",
        "import seaborn as sns\n",
        "import matplotlib.pyplot as plt\n",
        "import matplotlib.image as mpimg\n",
        "from matplotlib import style\n",
        "\n",
        "\n",
        "import warnings\n",
        "warnings.filterwarnings( \"ignore\", module = \"matplotlib\\..*\" )"
      ]
    },
    {
      "cell_type": "markdown",
      "metadata": {
        "id": "ywcnDSDg0iAF"
      },
      "source": [
        "# Mount to Google Drive"
      ]
    },
    {
      "cell_type": "code",
      "execution_count": 2,
      "metadata": {
        "id": "YjDp1MKV0o_S",
        "colab": {
          "base_uri": "https://localhost:8080/"
        },
        "outputId": "c1ee111f-54bb-423f-cda1-f5c8e7f1faaf"
      },
      "outputs": [
        {
          "output_type": "stream",
          "name": "stdout",
          "text": [
            "Mounted at /content/drive\n"
          ]
        }
      ],
      "source": [
        "from google.colab import drive\n",
        "drive.mount('/content/drive')"
      ]
    },
    {
      "cell_type": "markdown",
      "metadata": {
        "id": "qJsLr0_dWS_1"
      },
      "source": [
        "# Study case : Banjir\n",
        "Source [Data Rekapitulasi Tahunan Kejadian Banjir di Provinsi DKI Jakarta](https://data.jakarta.go.id/dataset/rekapitulasi-kejadian-banjir-pertahun)"
      ]
    },
    {
      "cell_type": "markdown",
      "metadata": {
        "id": "87H1woydWsbs"
      },
      "source": [
        "\n",
        "## **Analisis Korelasi Frekuensi Banjir dengan Ketersediaan Fasilitas Pengungsian di DKI Jakarta**\n",
        "## Problem Statement :\n",
        "1.   Bagaimana penyebaran banjir di Provinsi DKI Jakarta? Apakah meningkat atau menurun setiap tahunnya?\n",
        "2.   Pada tahun berapa banjir terjadi dengan frekuensi terbanyak di DKI Jakarta?\n",
        "3. Pada tahun berapa jumlah korban jiwa terbanyak akibat banjir terjadi di DKI Jakarta?\n",
        "4. Berapa jumlah penduduk (jiwa) yang terdampak akibat banjir di DKI Jakarta tiap Tahunnya\n",
        "5. Berapa jumlah korban meninggal akibat banjir di DKI Jakarta tiap tahunnya?\n",
        "6. Berapa jumlah korban hilang akibat banjir di DKI Jakarta tiap tahunnya?\n",
        "7. Berapa jumlah korban luka ringan akibat banjir di DKI Jakarta tiap tahunnya?\n",
        "8. Berapa jumlah korban luka berat akibat banjir di DKI Jakarta tiap tahunnya?\n",
        "9. Apakah ketersediaan tempat pengungsian untuk korban banjir mencukupi ?"
      ]
    },
    {
      "cell_type": "markdown",
      "metadata": {
        "id": "mHXNlIy_7Ahc"
      },
      "source": [
        "## Find the current working directory"
      ]
    },
    {
      "cell_type": "code",
      "execution_count": 3,
      "metadata": {
        "id": "rJmKLHmt2mgC",
        "colab": {
          "base_uri": "https://localhost:8080/"
        },
        "outputId": "6614b000-45eb-4b37-f9cd-ead405ba7e16"
      },
      "outputs": [
        {
          "output_type": "stream",
          "name": "stdout",
          "text": [
            "/content\n"
          ]
        }
      ],
      "source": [
        "!pwd"
      ]
    },
    {
      "cell_type": "code",
      "execution_count": 4,
      "metadata": {
        "id": "BeTG1NuW7HC_",
        "colab": {
          "base_uri": "https://localhost:8080/"
        },
        "outputId": "3fdd95d1-1e94-4fb1-d5a5-bc187bef7c46"
      },
      "outputs": [
        {
          "output_type": "stream",
          "name": "stdout",
          "text": [
            "/content/drive/My Drive/DSA/banjir_dataset\n",
            "banjir_2013.csv  banjir_2016.csv  banjir_2019.csv\n",
            "banjir_2014.csv  banjir_2017.csv  banjir_2020.csv\n",
            "banjir_2015.csv  banjir_2018.csv  januari_2020.csv\n"
          ]
        }
      ],
      "source": [
        "%cd /content/drive/My Drive/DSA/banjir_dataset/\n",
        "!ls"
      ]
    },
    {
      "cell_type": "markdown",
      "metadata": {
        "id": "bnnG1TfTWoIy"
      },
      "source": [
        "## Load datasets & exploratory data analysis"
      ]
    },
    {
      "cell_type": "code",
      "execution_count": 5,
      "metadata": {
        "id": "U2Kvl9kPZFQV"
      },
      "outputs": [],
      "source": [
        "base_path = '/content/drive/My Drive/DSA/banjir_dataset/'"
      ]
    },
    {
      "cell_type": "code",
      "source": [
        "# Read datasets\n",
        "def read_datasets(filenames):\n",
        "    datasets = {}\n",
        "    for filename in filenames:\n",
        "        dataset_name = filename.split(\".\")[0]  # Mengambil nama dataset dari nama file\n",
        "        dataset = pd.read_csv(filename)\n",
        "        datasets[dataset_name] = dataset\n",
        "    return datasets\n",
        "\n",
        "filenames = [\"banjir_2013.csv\", \"banjir_2014.csv\", \"banjir_2015.csv\", \"banjir_2016.csv\", \"banjir_2017.csv\", \"banjir_2018.csv\", \"banjir_2019.csv\", \"banjir_2020.csv\"]\n",
        "datasets = read_datasets(filenames)"
      ],
      "metadata": {
        "id": "qQa82u6dGr3G"
      },
      "execution_count": 6,
      "outputs": []
    },
    {
      "cell_type": "code",
      "source": [
        "def print_dataset_head(datasets):\n",
        "    for dataset_name, dataset in datasets.items():\n",
        "        print(f\"Dataset: {dataset_name}\")\n",
        "        print(dataset.head())\n",
        "        print('\\n')\n",
        "\n",
        "print_dataset_head(datasets)"
      ],
      "metadata": {
        "colab": {
          "base_uri": "https://localhost:8080/"
        },
        "id": "IRPMvl6EakEH",
        "outputId": "592dd8d5-46cf-4713-c92b-da8e548dfaa1"
      },
      "execution_count": 7,
      "outputs": [
        {
          "output_type": "stream",
          "name": "stdout",
          "text": [
            "Dataset: banjir_2013\n",
            "   bulan  kecamatan  kelurahan rata_rata_ketinggian_air  lama_genangan  \\\n",
            "0      1       35.0      124.0               10 - 400             15.0   \n",
            "1      2       15.0       34.0               10 - 175              8.0   \n",
            "2      3        5.0        9.0               10 - 250              2.0   \n",
            "3      4       10.0       16.0               10 - 100              4.0   \n",
            "4      5       10.0       16.0                0 - 160              3.0   \n",
            "\n",
            "   rw_terdampak  kk_terdampak  jiwa_terdampak  korban_meninggal  \\\n",
            "0        2414.0      506164.0       1226487.0              38.0   \n",
            "1         207.0       19177.0         46865.0               0.0   \n",
            "2          68.0        9215.0         27020.0               0.0   \n",
            "3          66.0        6004.0         15060.0               0.0   \n",
            "4         139.0        4740.0         18481.0               0.0   \n",
            "\n",
            "   korban_hilang  korban_luka_berat  korban_luka_ringan  \\\n",
            "0            0.0                0.0                 0.0   \n",
            "1            0.0                0.0                 0.0   \n",
            "2            0.0                0.0                 0.0   \n",
            "3            0.0                0.0                 0.0   \n",
            "4            0.0                0.0                 0.0   \n",
            "\n",
            "   jumlah_jiwa_pengungsi_tertinggi  jumlah_tempat_pengungsian  \\\n",
            "0                          83554.0                     1115.0   \n",
            "1                            740.0                       21.0   \n",
            "2                           2406.0                       34.0   \n",
            "3                            318.0                        7.0   \n",
            "4                           1245.0                       42.0   \n",
            "\n",
            "   jumlah_nilai_kerugian  \n",
            "0                      0  \n",
            "1                      0  \n",
            "2                      0  \n",
            "3                      0  \n",
            "4                      0  \n",
            "\n",
            "\n",
            "Dataset: banjir_2014\n",
            "   bulan  kecamatan  kelurahan rata_rata_ketinggian_air  lama_genangan  \\\n",
            "0      1       37.0      125.0                10 - 400            20.0   \n",
            "1      2       21.0       45.0                10 - 300            20.0   \n",
            "2      3        8.0       18.0                10 - 200             8.0   \n",
            "3      4        3.0        3.0                10 - 150             2.0   \n",
            "4      5        2.0        3.0                10 - 200             4.0   \n",
            "\n",
            "   rw_terdampak  kk_terdampak  jiwa_terdampak  korban_meninggal  \\\n",
            "0         634.0       70459.0        245950.0              23.0   \n",
            "1         192.0       56489.0        164940.0               0.0   \n",
            "2          89.0        4925.0         15098.0               0.0   \n",
            "3          11.0        1560.0          3553.0               0.0   \n",
            "4          16.0        2535.0          6327.0               0.0   \n",
            "\n",
            "   korban_hilang  korban_luka_berat  korban_luka_ringan  \\\n",
            "0            0.0                0.0                 0.0   \n",
            "1            0.0                0.0                 0.0   \n",
            "2            0.0                0.0                 0.0   \n",
            "3            0.0                0.0                 0.0   \n",
            "4            0.0                0.0                 0.0   \n",
            "\n",
            "   jumlah_jiwa_pengungsi_tertinggi  jumlah_tempat_pengungsian  \\\n",
            "0                         122417.0                      434.0   \n",
            "1                          38340.0                      129.0   \n",
            "2                           3479.0                       16.0   \n",
            "3                              0.0                        0.0   \n",
            "4                              0.0                        0.0   \n",
            "\n",
            "   jumlah_nilai_kerugian  \n",
            "0                    0.0  \n",
            "1                    0.0  \n",
            "2                    0.0  \n",
            "3                    0.0  \n",
            "4                    0.0  \n",
            "\n",
            "\n",
            "Dataset: banjir_2015\n",
            "   bulan  kecamatan  kelurahan rata_rata_ketinggian_air  lama_genangan  \\\n",
            "0      1         15         36                10 - 150               2   \n",
            "1      2         38        133                10 - 200               7   \n",
            "2      3         12         15                10 - 200               4   \n",
            "3      4          4          6                20 - 100               3   \n",
            "4      5          1          1                20 - 100               1   \n",
            "\n",
            "   rw_terdampak  kk_terdampak  jiwa_terdampak  korban_meninggal  \\\n",
            "0           221          6095           13073                 0   \n",
            "1           615         64458          231566                 5   \n",
            "2            30          2869            8119                 0   \n",
            "3            18          2235            7905                 0   \n",
            "4             7           423            2088                 0   \n",
            "\n",
            "   korban_hilang  korban_luka_berat  korban_luka_ringan  \\\n",
            "0              0                  0                   0   \n",
            "1              0                  0                   0   \n",
            "2              0                  0                   0   \n",
            "3              0                  0                   0   \n",
            "4              0                  0                   0   \n",
            "\n",
            "   jumlah_jiwa_pengungsi_tertinggi  jumlah_tempat_pengungsian  \\\n",
            "0                             3255                         59   \n",
            "1                            41202                        337   \n",
            "2                              822                          5   \n",
            "3                                0                          0   \n",
            "4                                0                          0   \n",
            "\n",
            "   jumlah_nilai_kerugian  \n",
            "0                      0  \n",
            "1                      0  \n",
            "2                      0  \n",
            "3                      0  \n",
            "4                      0  \n",
            "\n",
            "\n",
            "Dataset: banjir_2016\n",
            "   bulan  kecamatan  kelurahan rata_rata_ketinggian_air  lama_genangan  \\\n",
            "0      1          8         13                   Oct-80              2   \n",
            "1      2         25         70                   5 -200              2   \n",
            "2      3         14         32                    5-300              2   \n",
            "3      4         18         44                    5-360              2   \n",
            "4      5         10         14                    5-200              1   \n",
            "\n",
            "   rw_terdampak  kk_terdampak  jiwa_terdampak  korban_meninggal  \\\n",
            "0            26          1020            3853                 0   \n",
            "1           231         20593           70218                 0   \n",
            "2            93         16145           51234                 0   \n",
            "3           134          7833           27607                 0   \n",
            "4            26          1496            6271                 0   \n",
            "\n",
            "   korban_hilang  korban_luka_berat  korban_luka_ringan  \\\n",
            "0              0                  0                   0   \n",
            "1              0                  0                   0   \n",
            "2              0                  0                   0   \n",
            "3              0                  0                   0   \n",
            "4              0                  0                   0   \n",
            "\n",
            "   jumlah_jiwa_pengungsi_tertinggi  jumlah_tempat_pengungsian  \\\n",
            "0                                0                          0   \n",
            "1                             1137                         45   \n",
            "2                             2192                         27   \n",
            "3                             2945                         40   \n",
            "4                                0                          0   \n",
            "\n",
            "   jumlah_nilai_kerugian  \n",
            "0                      0  \n",
            "1                      0  \n",
            "2                      0  \n",
            "3                      0  \n",
            "4                      0  \n",
            "\n",
            "\n",
            "Dataset: banjir_2017\n",
            "   bulan  kecamatan  kelurahan rata_rata_ketinggian_air  lama_genangan  \\\n",
            "0      1          4          5                    10-70              2   \n",
            "1      2         31         67                   10-250              5   \n",
            "2      3         20         40                    0-160              3   \n",
            "3      4         19         33                   10-200              1   \n",
            "4      5         15         25                    5-120              2   \n",
            "\n",
            "   rw_terdampak kk_terdampak jiwa_terdampak  korban_meninggal  korban_hilang  \\\n",
            "0             7          n.a            n.a                 0              0   \n",
            "1           216         6967          19325                 6              0   \n",
            "2            95         3232          10166                 0              0   \n",
            "3            78          621           2131                 0              0   \n",
            "4            48         1056           3420                 0              0   \n",
            "\n",
            "   korban_luka_berat  korban_luka_ringan  jumlah_jiwa_pengungsi_tertinggi  \\\n",
            "0                  0                   0                                0   \n",
            "1                  0                   0                             5858   \n",
            "2                  0                   0                             1870   \n",
            "3                  0                   0                              753   \n",
            "4                  0                   0                               20   \n",
            "\n",
            "   jumlah_tempat_pengungsian jumlah_nilai_kerugian  \n",
            "0                          0                   n.a  \n",
            "1                         45                   n.a  \n",
            "2                         27                   n.a  \n",
            "3                         40                   n.a  \n",
            "4                          0                   n.a  \n",
            "\n",
            "\n",
            "Dataset: banjir_2018\n",
            "   bulan  kecamatan  kelurahan rata_rata_ketinggian_air lama_genangan  \\\n",
            "0      1          5          8                     5-40      1 s/d 2    \n",
            "1      2         24         43                    5-300      1 s/d 6    \n",
            "2      3          6          8                   10-100             1   \n",
            "3      4          6          8                     5-90             1   \n",
            "4      5          8         17                   10-150             1   \n",
            "\n",
            "   rw_terdampak  kk_terdampak  jiwa_terdampak  korban_meninggal  \\\n",
            "0            25             0               0                 0   \n",
            "1           162          5467           19456                 1   \n",
            "2            21           303            1000                 0   \n",
            "3            19           300             988                 0   \n",
            "4            47           214             716                 0   \n",
            "\n",
            "   korban_hilang  korban_luka_berat  korban_luka_ringan  \\\n",
            "0              0                  0                   0   \n",
            "1              0                  1                   0   \n",
            "2              0                  0                   0   \n",
            "3              0                  0                   0   \n",
            "4              0                  0                   0   \n",
            "\n",
            "   jumlah_jiwa_pengungsi_tertinggi  jumlah_tempat_pengungsian  \\\n",
            "0                                0                          0   \n",
            "1                            15558                         60   \n",
            "2                                0                          0   \n",
            "3                                0                          0   \n",
            "4                               69                          2   \n",
            "\n",
            "  jumlah_nilai_kerugian  \n",
            "0                   n.a  \n",
            "1                   n.a  \n",
            "2                   n.a  \n",
            "3                   n.a  \n",
            "4                   n.a  \n",
            "\n",
            "\n",
            "Dataset: banjir_2019\n",
            "   bulan  kecamatan  kelurahan rata_rata_ketinggian_air lama_genangan  \\\n",
            "0      1         14         31             10 s.d 70 cm        2 hari   \n",
            "1      2         15         25           10 s.d 135 cm         1 hari   \n",
            "2      3         23         43            10 s.d 100 cm        2 hari   \n",
            "3      4         17         34           10 s.d 250 cm         1 hari   \n",
            "4      5          5          7           10 s.d 100 cm         1 hari   \n",
            "\n",
            "   rw_terdampak  kk_terdampak  jiwa_terdampak  korban_meninggal  \\\n",
            "0            58           135             453                 0   \n",
            "1            43           398            1186                 0   \n",
            "2           119           315            1010                 0   \n",
            "3            94          2915            8851                 2   \n",
            "4            15           150             355                 0   \n",
            "\n",
            "   korban_hilang  korban_luka_berat  korban_luka_ringan  \\\n",
            "0              0                  0                   0   \n",
            "1              0                  0                   0   \n",
            "2              0                  0                   0   \n",
            "3              0                  0                   0   \n",
            "4              0                  0                   0   \n",
            "\n",
            "   jumlah_jiwa_pengungsi_tertinggi  jumlah_tempat_pengungsian  \\\n",
            "0                                0                          0   \n",
            "1                                0                          0   \n",
            "2                               85                          2   \n",
            "3                             3600                         23   \n",
            "4                                0                          0   \n",
            "\n",
            "  jumlah_nilai_kerugian  \n",
            "0                   n.a  \n",
            "1                   n.a  \n",
            "2                   n.a  \n",
            "3                   n.a  \n",
            "4                   n.a  \n",
            "\n",
            "\n",
            "Dataset: banjir_2020\n",
            "   bulan  kecamatan  kelurahan rata_rata_ketinggian_air lama_genangan  \\\n",
            "0      1         35        151            10 s.d 350 cm        4 hari   \n",
            "1      2         42        167             5 s.d 200 cm  1 s.d 2 hari   \n",
            "2      3         24         46             5 s.d 160 cm  1 s.d 2 hari   \n",
            "3      4         21         50            10 s.d 130 cm  1 s.d 2 hari   \n",
            "4      5         12         23            10 s.d 200 cm  1 s.d 2 hari   \n",
            "\n",
            "   rw_terdampak  kk_terdampak  jiwa_terdampak  korban_meninggal  \\\n",
            "0           390         22148           83406                19   \n",
            "1           581         12551           43464                 6   \n",
            "2           104          3057            9687                 0   \n",
            "3           106          1059            2966                 0   \n",
            "4            47           891            3117                 0   \n",
            "\n",
            "   korban_hilang  korban_luka_berat  korban_luka_ringan  \\\n",
            "0              0                  0                   0   \n",
            "1              0                  0                   0   \n",
            "2              0                  0                   0   \n",
            "3              0                  0                   0   \n",
            "4              0                  0                   0   \n",
            "\n",
            "   jumlah_jiwa_pengungsi_tertinggi  jumlah_tempat_pengungsian  \\\n",
            "0                            36445                        269   \n",
            "1                            13808                        119   \n",
            "2                              453                         14   \n",
            "3                               75                          2   \n",
            "4                              213                          6   \n",
            "\n",
            "  jumlah_nilai_kerugian  \n",
            "0                   n.a  \n",
            "1                   n.a  \n",
            "2                   n.a  \n",
            "3                   n.a  \n",
            "4                   n.a  \n",
            "\n",
            "\n"
          ]
        }
      ]
    },
    {
      "cell_type": "code",
      "source": [
        "# Melihat shape dari setiap dataset\n",
        "def print_dataset_shape(datasets):\n",
        "    for dataset_name, dataset in datasets.items():\n",
        "        print(f\"Shape dataset {dataset_name} : {dataset.shape} \")\n",
        "\n",
        "datasets = read_datasets(filenames)\n",
        "print_dataset_shape(datasets)"
      ],
      "metadata": {
        "colab": {
          "base_uri": "https://localhost:8080/"
        },
        "id": "AfIenhRBHFm1",
        "outputId": "8ad43295-a20d-42f9-b9a3-c0ec5d84d235"
      },
      "execution_count": 8,
      "outputs": [
        {
          "output_type": "stream",
          "name": "stdout",
          "text": [
            "Shape dataset banjir_2013 : (12, 15) \n",
            "Shape dataset banjir_2014 : (12, 15) \n",
            "Shape dataset banjir_2015 : (12, 15) \n",
            "Shape dataset banjir_2016 : (11, 15) \n",
            "Shape dataset banjir_2017 : (12, 15) \n",
            "Shape dataset banjir_2018 : (12, 15) \n",
            "Shape dataset banjir_2019 : (12, 15) \n",
            "Shape dataset banjir_2020 : (12, 15) \n"
          ]
        }
      ]
    },
    {
      "cell_type": "code",
      "source": [
        "# Melihat missing value dari setiap dataset\n",
        "def print_missing_values(datasets):\n",
        "    for dataset_name, dataset in datasets.items():\n",
        "        print(f\"Dataset: {dataset_name}\")\n",
        "        missing_values = dataset.isnull().sum()\n",
        "        if missing_values.sum() == 0:\n",
        "            print(f\"Tidak terdapat missing value pada dataset {dataset_name}.\\n\")\n",
        "        else:\n",
        "            print(missing_values)\n",
        "\n",
        "print_missing_values(datasets)"
      ],
      "metadata": {
        "colab": {
          "base_uri": "https://localhost:8080/"
        },
        "id": "IOwi8zjhC4Ga",
        "outputId": "8dd9742c-cede-476b-bb49-bf69a63f10f6"
      },
      "execution_count": 9,
      "outputs": [
        {
          "output_type": "stream",
          "name": "stdout",
          "text": [
            "Dataset: banjir_2013\n",
            "bulan                              0\n",
            "kecamatan                          1\n",
            "kelurahan                          1\n",
            "rata_rata_ketinggian_air           1\n",
            "lama_genangan                      1\n",
            "rw_terdampak                       1\n",
            "kk_terdampak                       1\n",
            "jiwa_terdampak                     1\n",
            "korban_meninggal                   1\n",
            "korban_hilang                      1\n",
            "korban_luka_berat                  1\n",
            "korban_luka_ringan                 1\n",
            "jumlah_jiwa_pengungsi_tertinggi    2\n",
            "jumlah_tempat_pengungsian          1\n",
            "jumlah_nilai_kerugian              0\n",
            "dtype: int64\n",
            "Dataset: banjir_2014\n",
            "bulan                              0\n",
            "kecamatan                          2\n",
            "kelurahan                          2\n",
            "rata_rata_ketinggian_air           2\n",
            "lama_genangan                      2\n",
            "rw_terdampak                       2\n",
            "kk_terdampak                       2\n",
            "jiwa_terdampak                     2\n",
            "korban_meninggal                   2\n",
            "korban_hilang                      2\n",
            "korban_luka_berat                  2\n",
            "korban_luka_ringan                 2\n",
            "jumlah_jiwa_pengungsi_tertinggi    2\n",
            "jumlah_tempat_pengungsian          2\n",
            "jumlah_nilai_kerugian              2\n",
            "dtype: int64\n",
            "Dataset: banjir_2015\n",
            "Tidak terdapat missing value pada dataset banjir_2015.\n",
            "\n",
            "Dataset: banjir_2016\n",
            "Tidak terdapat missing value pada dataset banjir_2016.\n",
            "\n",
            "Dataset: banjir_2017\n",
            "Tidak terdapat missing value pada dataset banjir_2017.\n",
            "\n",
            "Dataset: banjir_2018\n",
            "Tidak terdapat missing value pada dataset banjir_2018.\n",
            "\n",
            "Dataset: banjir_2019\n",
            "Tidak terdapat missing value pada dataset banjir_2019.\n",
            "\n",
            "Dataset: banjir_2020\n",
            "Tidak terdapat missing value pada dataset banjir_2020.\n",
            "\n"
          ]
        }
      ]
    },
    {
      "cell_type": "code",
      "source": [
        "# Drop missing values dari setiap datasets\n",
        "def drop_missing_values(datasets):\n",
        "    for dataset_name, dataset in datasets.items():\n",
        "        dataset.dropna(inplace=True)\n",
        "        print(f\"Missing value dihapus dari dataset {dataset_name}.\")\n",
        "        print(f\"Shape dataset {dataset_name} setelah menghapus missing value: {dataset.shape}\\n\")\n",
        "\n",
        "my_datasets = drop_missing_values(datasets)"
      ],
      "metadata": {
        "colab": {
          "base_uri": "https://localhost:8080/"
        },
        "id": "8wtFFpwVDIav",
        "outputId": "da9307f8-6194-490c-a069-ed81df186c1d"
      },
      "execution_count": 10,
      "outputs": [
        {
          "output_type": "stream",
          "name": "stdout",
          "text": [
            "Missing value dihapus dari dataset banjir_2013.\n",
            "Shape dataset banjir_2013 setelah menghapus missing value: (10, 15)\n",
            "\n",
            "Missing value dihapus dari dataset banjir_2014.\n",
            "Shape dataset banjir_2014 setelah menghapus missing value: (10, 15)\n",
            "\n",
            "Missing value dihapus dari dataset banjir_2015.\n",
            "Shape dataset banjir_2015 setelah menghapus missing value: (12, 15)\n",
            "\n",
            "Missing value dihapus dari dataset banjir_2016.\n",
            "Shape dataset banjir_2016 setelah menghapus missing value: (11, 15)\n",
            "\n",
            "Missing value dihapus dari dataset banjir_2017.\n",
            "Shape dataset banjir_2017 setelah menghapus missing value: (12, 15)\n",
            "\n",
            "Missing value dihapus dari dataset banjir_2018.\n",
            "Shape dataset banjir_2018 setelah menghapus missing value: (12, 15)\n",
            "\n",
            "Missing value dihapus dari dataset banjir_2019.\n",
            "Shape dataset banjir_2019 setelah menghapus missing value: (12, 15)\n",
            "\n",
            "Missing value dihapus dari dataset banjir_2020.\n",
            "Shape dataset banjir_2020 setelah menghapus missing value: (12, 15)\n",
            "\n"
          ]
        }
      ]
    },
    {
      "cell_type": "markdown",
      "source": [
        "## Tren Banjir di Provinsi DKI Jakarta berdasarkan Kecamatan dari tahun 2013-2020"
      ],
      "metadata": {
        "id": "evhBWrH7e0uv"
      }
    },
    {
      "cell_type": "code",
      "source": [
        "# Menampilkan 6 baris pertama pada setiap dataframe\n",
        "def print_dataset_columns(datasets):\n",
        "    for dataset_name, dataset in datasets.items():\n",
        "        print(f\"Dataset: {dataset_name}\")\n",
        "        if 'bulan' in dataset.columns and 'kecamatan' in dataset.columns:\n",
        "            print(dataset[['bulan', 'kecamatan']].head(6))\n",
        "        else:\n",
        "            print(\"Kolom 'bulan' atau 'kecamatan' tidak ada dalam dataset.\")\n",
        "        print('\\n')\n",
        "\n",
        "print_dataset_columns(datasets)"
      ],
      "metadata": {
        "colab": {
          "base_uri": "https://localhost:8080/"
        },
        "id": "oTPBR5xUJdSJ",
        "outputId": "6814a907-c514-46dc-a35f-9d317355c43c"
      },
      "execution_count": 11,
      "outputs": [
        {
          "output_type": "stream",
          "name": "stdout",
          "text": [
            "Dataset: banjir_2013\n",
            "   bulan  kecamatan\n",
            "0      1       35.0\n",
            "1      2       15.0\n",
            "2      3        5.0\n",
            "3      4       10.0\n",
            "4      5       10.0\n",
            "6      7        6.0\n",
            "\n",
            "\n",
            "Dataset: banjir_2014\n",
            "   bulan  kecamatan\n",
            "0      1       37.0\n",
            "1      2       21.0\n",
            "2      3        8.0\n",
            "3      4        3.0\n",
            "4      5        2.0\n",
            "5      6        1.0\n",
            "\n",
            "\n",
            "Dataset: banjir_2015\n",
            "   bulan  kecamatan\n",
            "0      1         15\n",
            "1      2         38\n",
            "2      3         12\n",
            "3      4          4\n",
            "4      5          1\n",
            "5      6          0\n",
            "\n",
            "\n",
            "Dataset: banjir_2016\n",
            "   bulan  kecamatan\n",
            "0      1          8\n",
            "1      2         25\n",
            "2      3         14\n",
            "3      4         18\n",
            "4      5         10\n",
            "5      6         11\n",
            "\n",
            "\n",
            "Dataset: banjir_2017\n",
            "   bulan  kecamatan\n",
            "0      1          4\n",
            "1      2         31\n",
            "2      3         20\n",
            "3      4         19\n",
            "4      5         15\n",
            "5      6          4\n",
            "\n",
            "\n",
            "Dataset: banjir_2018\n",
            "   bulan  kecamatan\n",
            "0      1          5\n",
            "1      2         24\n",
            "2      3          6\n",
            "3      4          6\n",
            "4      5          8\n",
            "5      6          5\n",
            "\n",
            "\n",
            "Dataset: banjir_2019\n",
            "   bulan  kecamatan\n",
            "0      1         14\n",
            "1      2         15\n",
            "2      3         23\n",
            "3      4         17\n",
            "4      5          5\n",
            "5      6          0\n",
            "\n",
            "\n",
            "Dataset: banjir_2020\n",
            "   bulan  kecamatan\n",
            "0      1         35\n",
            "1      2         42\n",
            "2      3         24\n",
            "3      4         21\n",
            "4      5         12\n",
            "5      6          9\n",
            "\n",
            "\n"
          ]
        }
      ]
    },
    {
      "cell_type": "code",
      "source": [
        "# Menjumlahkan banjir berdasarkan kecamatan setiap tahunnya dari tahun 2013-2020\n",
        "def sum_column(datasets, column_name):\n",
        "    totals = {}\n",
        "    for dataset_name, dataset in datasets.items():\n",
        "        dataset_name_cleaned = dataset_name.replace('banjir_', '')\n",
        "        if column_name in dataset.columns:\n",
        "            total = dataset[column_name].sum()\n",
        "            totals[dataset_name_cleaned] = total\n",
        "\n",
        "    # Mengurutkan hasil berdasarkan jumlah banjir dari terbesar ke terkecil\n",
        "    sorted_totals = sorted(totals.items(), key=lambda x: x[1], reverse=True)\n",
        "    for dataset_name, total in sorted_totals:\n",
        "        print(f\"Jumlah {column_name} yang mengalami banjir pada tahun {dataset_name} di Provinsi DKI Jakarta : {total}\")\n",
        "\n",
        "sum_column(datasets, 'kecamatan')"
      ],
      "metadata": {
        "id": "YKnH8ML7YHom",
        "colab": {
          "base_uri": "https://localhost:8080/"
        },
        "outputId": "9bdfd795-9253-4899-e1ee-893091fb1f83"
      },
      "execution_count": 12,
      "outputs": [
        {
          "output_type": "stream",
          "name": "stdout",
          "text": [
            "Jumlah kecamatan yang mengalami banjir pada tahun 2020 di Provinsi DKI Jakarta : 223\n",
            "Jumlah kecamatan yang mengalami banjir pada tahun 2016 di Provinsi DKI Jakarta : 156\n",
            "Jumlah kecamatan yang mengalami banjir pada tahun 2017 di Provinsi DKI Jakarta : 149\n",
            "Jumlah kecamatan yang mengalami banjir pada tahun 2013 di Provinsi DKI Jakarta : 113.0\n",
            "Jumlah kecamatan yang mengalami banjir pada tahun 2014 di Provinsi DKI Jakarta : 107.0\n",
            "Jumlah kecamatan yang mengalami banjir pada tahun 2019 di Provinsi DKI Jakarta : 90\n",
            "Jumlah kecamatan yang mengalami banjir pada tahun 2015 di Provinsi DKI Jakarta : 89\n",
            "Jumlah kecamatan yang mengalami banjir pada tahun 2018 di Provinsi DKI Jakarta : 83\n"
          ]
        }
      ]
    },
    {
      "cell_type": "code",
      "source": [
        "def visualize_floods_by_year(datasets):\n",
        "    tahun = {}\n",
        "    for dataset_name, dataset in datasets.items():\n",
        "        dataset_name_cleaned = dataset_name.replace('banjir_', '')  # Hilangkan kata 'banjir_' pada nama dataset\n",
        "        year = int(dataset_name_cleaned)\n",
        "        if 'kecamatan' in dataset.columns:\n",
        "            total = dataset['kecamatan'].sum()\n",
        "            if year in tahun:\n",
        "                tahun[year] += total\n",
        "            else:\n",
        "                tahun[year] = total\n",
        "\n",
        "    years = list(tahun.keys())\n",
        "    floods = list(tahun.values())\n",
        "\n",
        "    plt.bar(years, floods)\n",
        "    plt.xlabel('Tahun')\n",
        "    plt.ylabel('Jumlah Kecamatan')\n",
        "    plt.title('Jumlah Banjir Kecamatan per Tahun')\n",
        "    plt.show()\n",
        "\n",
        "visualize_floods_by_year(datasets)"
      ],
      "metadata": {
        "id": "5vj6cBKVfvOp",
        "colab": {
          "base_uri": "https://localhost:8080/",
          "height": 472
        },
        "outputId": "c1327f97-329c-40fa-accc-09f58e917c34"
      },
      "execution_count": 13,
      "outputs": [
        {
          "output_type": "display_data",
          "data": {
            "text/plain": [
              "<Figure size 640x480 with 1 Axes>"
            ],
            "image/png": "[encoded data removed]"
          },
          "metadata": {}
        }
      ]
    },
    {
      "cell_type": "markdown",
      "source": [
        "## Jumlah Korban akibat banjir di Provinsi DKI Jakarta dari tahun 2013-2020"
      ],
      "metadata": {
        "id": "ljbMRn1YiJEi"
      }
    },
    {
      "cell_type": "code",
      "source": [
        "# Melihat shape dari setiap dataset\n",
        "def print_dataset_shape(datasets):\n",
        "    for dataset_name, dataset in datasets.items():\n",
        "        print(f\"Shape dataset {dataset_name} : {dataset.shape} \")\n",
        "\n",
        "datasets = read_datasets(filenames)\n",
        "print_dataset_shape(datasets)"
      ],
      "metadata": {
        "colab": {
          "base_uri": "https://localhost:8080/"
        },
        "id": "MLvltd7nd3Wy",
        "outputId": "b6228104-04f1-41dc-e127-7d69d6144521"
      },
      "execution_count": 14,
      "outputs": [
        {
          "output_type": "stream",
          "name": "stdout",
          "text": [
            "Shape dataset banjir_2013 : (12, 15) \n",
            "Shape dataset banjir_2014 : (12, 15) \n",
            "Shape dataset banjir_2015 : (12, 15) \n",
            "Shape dataset banjir_2016 : (11, 15) \n",
            "Shape dataset banjir_2017 : (12, 15) \n",
            "Shape dataset banjir_2018 : (12, 15) \n",
            "Shape dataset banjir_2019 : (12, 15) \n",
            "Shape dataset banjir_2020 : (12, 15) \n"
          ]
        }
      ]
    },
    {
      "cell_type": "code",
      "source": [
        "# Melihat missing value dari setiap dataset\n",
        "def print_missing_values(datasets):\n",
        "    for dataset_name, dataset in datasets.items():\n",
        "        missing_values = dataset.isnull().sum()\n",
        "        if missing_values.sum() == 0:\n",
        "            print(f\"Tidak terdapat missing value pada dataset {dataset_name}.\")\n",
        "        else:\n",
        "            print(missing_values)\n",
        "\n",
        "print_missing_values(datasets)"
      ],
      "metadata": {
        "id": "0oGcoHrliRH5",
        "colab": {
          "base_uri": "https://localhost:8080/"
        },
        "outputId": "600f4e9b-6d19-44aa-debd-7f8d40c9efc0"
      },
      "execution_count": 15,
      "outputs": [
        {
          "output_type": "stream",
          "name": "stdout",
          "text": [
            "bulan                              0\n",
            "kecamatan                          1\n",
            "kelurahan                          1\n",
            "rata_rata_ketinggian_air           1\n",
            "lama_genangan                      1\n",
            "rw_terdampak                       1\n",
            "kk_terdampak                       1\n",
            "jiwa_terdampak                     1\n",
            "korban_meninggal                   1\n",
            "korban_hilang                      1\n",
            "korban_luka_berat                  1\n",
            "korban_luka_ringan                 1\n",
            "jumlah_jiwa_pengungsi_tertinggi    2\n",
            "jumlah_tempat_pengungsian          1\n",
            "jumlah_nilai_kerugian              0\n",
            "dtype: int64\n",
            "bulan                              0\n",
            "kecamatan                          2\n",
            "kelurahan                          2\n",
            "rata_rata_ketinggian_air           2\n",
            "lama_genangan                      2\n",
            "rw_terdampak                       2\n",
            "kk_terdampak                       2\n",
            "jiwa_terdampak                     2\n",
            "korban_meninggal                   2\n",
            "korban_hilang                      2\n",
            "korban_luka_berat                  2\n",
            "korban_luka_ringan                 2\n",
            "jumlah_jiwa_pengungsi_tertinggi    2\n",
            "jumlah_tempat_pengungsian          2\n",
            "jumlah_nilai_kerugian              2\n",
            "dtype: int64\n",
            "Tidak terdapat missing value pada dataset banjir_2015.\n",
            "Tidak terdapat missing value pada dataset banjir_2016.\n",
            "Tidak terdapat missing value pada dataset banjir_2017.\n",
            "Tidak terdapat missing value pada dataset banjir_2018.\n",
            "Tidak terdapat missing value pada dataset banjir_2019.\n",
            "Tidak terdapat missing value pada dataset banjir_2020.\n"
          ]
        }
      ]
    },
    {
      "cell_type": "code",
      "source": [
        "# Menampilkan 6 baris pertama pada setiap dataframe\n",
        "def print_dataset_columns(datasets):\n",
        "    for dataset_name, dataset in datasets.items():\n",
        "        print(f\"Dataset: {dataset_name}\")\n",
        "        if 'korban_meninggal' in dataset.columns and 'korban_hilang' in dataset.columns:\n",
        "            print(dataset[['korban_meninggal', 'korban_hilang']].head(6))\n",
        "        else:\n",
        "            print(\"Kolom 'korban_meninggal' atau 'korban_hilang' tidak ada dalam dataset.\")\n",
        "        print('\\n')\n",
        "\n",
        "print_dataset_columns(datasets)"
      ],
      "metadata": {
        "colab": {
          "base_uri": "https://localhost:8080/"
        },
        "id": "RbsygJIOXNxo",
        "outputId": "9f9b2a07-807e-45db-8e56-8a8e217be6fd"
      },
      "execution_count": 16,
      "outputs": [
        {
          "output_type": "stream",
          "name": "stdout",
          "text": [
            "Dataset: banjir_2013\n",
            "   korban_meninggal  korban_hilang\n",
            "0              38.0            0.0\n",
            "1               0.0            0.0\n",
            "2               0.0            0.0\n",
            "3               0.0            0.0\n",
            "4               0.0            0.0\n",
            "5               0.0            0.0\n",
            "\n",
            "\n",
            "Dataset: banjir_2014\n",
            "   korban_meninggal  korban_hilang\n",
            "0              23.0            0.0\n",
            "1               0.0            0.0\n",
            "2               0.0            0.0\n",
            "3               0.0            0.0\n",
            "4               0.0            0.0\n",
            "5               0.0            0.0\n",
            "\n",
            "\n",
            "Dataset: banjir_2015\n",
            "   korban_meninggal  korban_hilang\n",
            "0                 0              0\n",
            "1                 5              0\n",
            "2                 0              0\n",
            "3                 0              0\n",
            "4                 0              0\n",
            "5                 0              0\n",
            "\n",
            "\n",
            "Dataset: banjir_2016\n",
            "   korban_meninggal  korban_hilang\n",
            "0                 0              0\n",
            "1                 0              0\n",
            "2                 0              0\n",
            "3                 0              0\n",
            "4                 0              0\n",
            "5                 0              0\n",
            "\n",
            "\n",
            "Dataset: banjir_2017\n",
            "   korban_meninggal  korban_hilang\n",
            "0                 0              0\n",
            "1                 6              0\n",
            "2                 0              0\n",
            "3                 0              0\n",
            "4                 0              0\n",
            "5                 0              0\n",
            "\n",
            "\n",
            "Dataset: banjir_2018\n",
            "   korban_meninggal  korban_hilang\n",
            "0                 0              0\n",
            "1                 1              0\n",
            "2                 0              0\n",
            "3                 0              0\n",
            "4                 0              0\n",
            "5                 0              0\n",
            "\n",
            "\n",
            "Dataset: banjir_2019\n",
            "   korban_meninggal  korban_hilang\n",
            "0                 0              0\n",
            "1                 0              0\n",
            "2                 0              0\n",
            "3                 2              0\n",
            "4                 0              0\n",
            "5                 0              0\n",
            "\n",
            "\n",
            "Dataset: banjir_2020\n",
            "   korban_meninggal  korban_hilang\n",
            "0                19              0\n",
            "1                 6              0\n",
            "2                 0              0\n",
            "3                 0              0\n",
            "4                 0              0\n",
            "5                 0              0\n",
            "\n",
            "\n"
          ]
        }
      ]
    },
    {
      "cell_type": "code",
      "source": [
        "def count_victims(datasets):\n",
        "    for dataset_name, dataset in datasets.items():\n",
        "        dataset_name_output = dataset_name.replace(\"banjir_\", \"\")  # Remove 'banjir_' from dataset name\n",
        "        print(f\"Tahun {dataset_name_output}\")\n",
        "        if 'korban_meninggal' in dataset.columns and 'korban_hilang' in dataset.columns:\n",
        "            total_meninggal = dataset['korban_meninggal'].sum()\n",
        "            total_hilang = dataset['korban_hilang'].sum()\n",
        "            print(f\"Total korban meninggal \\t: {total_meninggal} korban jiwa\")\n",
        "            print(f\"Total korban hilang \\t: {total_hilang} orang\\n\")\n",
        "        else:\n",
        "            print(\"Kolom 'korban_meninggal' atau 'korban_hilang' tidak ada dalam dataset.\")\n",
        "\n",
        "count_victims(datasets)"
      ],
      "metadata": {
        "colab": {
          "base_uri": "https://localhost:8080/"
        },
        "id": "WsXf2AIQYWF1",
        "outputId": "857ecf4d-4bee-4554-8b3e-58ea63ed0511"
      },
      "execution_count": 18,
      "outputs": [
        {
          "output_type": "stream",
          "name": "stdout",
          "text": [
            "Tahun 2013\n",
            "Total korban meninggal \t: 40.0 korban jiwa\n",
            "Total korban hilang \t: 0.0 orang\n",
            "\n",
            "Tahun 2014\n",
            "Total korban meninggal \t: 23.0 korban jiwa\n",
            "Total korban hilang \t: 0.0 orang\n",
            "\n",
            "Tahun 2015\n",
            "Total korban meninggal \t: 5 korban jiwa\n",
            "Total korban hilang \t: 0 orang\n",
            "\n",
            "Tahun 2016\n",
            "Total korban meninggal \t: 2 korban jiwa\n",
            "Total korban hilang \t: 0 orang\n",
            "\n",
            "Tahun 2017\n",
            "Total korban meninggal \t: 6 korban jiwa\n",
            "Total korban hilang \t: 0 orang\n",
            "\n",
            "Tahun 2018\n",
            "Total korban meninggal \t: 1 korban jiwa\n",
            "Total korban hilang \t: 0 orang\n",
            "\n",
            "Tahun 2019\n",
            "Total korban meninggal \t: 2 korban jiwa\n",
            "Total korban hilang \t: 0 orang\n",
            "\n",
            "Tahun 2020\n",
            "Total korban meninggal \t: 25 korban jiwa\n",
            "Total korban hilang \t: 0 orang\n",
            "\n"
          ]
        }
      ]
    },
    {
      "cell_type": "code",
      "source": [
        "def plot_meninggal(datasets):\n",
        "    total_meninggal = []\n",
        "    dataset_names = []\n",
        "\n",
        "    for dataset_name, dataset in datasets.items():\n",
        "        dataset_names.append(dataset_name.replace(\"banjir_\", \"\"))  # Remove 'banjir_' from dataset name\n",
        "\n",
        "        if 'korban_meninggal' in dataset.columns:\n",
        "            dataset['korban_meninggal'] = dataset['korban_meninggal']  # Convert 'korban_meninggal' column to integer data type\n",
        "\n",
        "            total_meninggal.append(dataset['korban_meninggal'].sum())\n",
        "        else:\n",
        "            total_meninggal.append(0)\n",
        "\n",
        "    plt.figure(figsize=(10, 6))\n",
        "    x = range(len(dataset_names))\n",
        "\n",
        "    plt.bar(x, total_meninggal)\n",
        "\n",
        "    plt.xlabel('Tahun')\n",
        "    plt.ylabel('Jumlah')\n",
        "    plt.title('Bar Plot Korban Meninggal - Semua Dataset')\n",
        "    plt.xticks(x, dataset_names)\n",
        "    plt.show()\n",
        "\n",
        "plot_meninggal(datasets)"
      ],
      "metadata": {
        "colab": {
          "base_uri": "https://localhost:8080/",
          "height": 564
        },
        "id": "xMm9drgeeZfT",
        "outputId": "01b6a4fb-77e4-4c06-ad2c-bb87e7ade621"
      },
      "execution_count": 19,
      "outputs": [
        {
          "output_type": "display_data",
          "data": {
            "text/plain": [
              "<Figure size 1000x600 with 1 Axes>"
            ],
            "image/png": "[encoded data removed]"
          },
          "metadata": {}
        }
      ]
    }
  ],
  "metadata": {
    "accelerator": "GPU",
    "colab": {
      "collapsed_sections": [
        "PnByliwS3Ee9",
        "mHXNlIy_7Ahc"
      ],
      "provenance": [],
      "gpuType": "T4",
      "include_colab_link": true
    },
    "kernelspec": {
      "display_name": "Python 3",
      "name": "python3"
    },
    "language_info": {
      "name": "python"
    }
  },
  "nbformat": 4,
  "nbformat_minor": 0
}